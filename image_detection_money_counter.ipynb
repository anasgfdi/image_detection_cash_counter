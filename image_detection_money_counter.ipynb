{
  "cells": [
    {
      "cell_type": "markdown",
      "metadata": {
        "colab_type": "text",
        "id": "view-in-github"
      },
      "source": [
        "<a href=\"https://colab.research.google.com/github/anasgfdi/image_detection_cash_counter/blob/main/image_detection_money_counter.ipynb\" target=\"_parent\"><img src=\"https://colab.research.google.com/assets/colab-badge.svg\" alt=\"Open In Colab\"/></a>"
      ]
    },
    {
      "cell_type": "code",
      "execution_count": 1,
      "metadata": {
        "id": "uzNFFnrEahOY"
      },
      "outputs": [],
      "source": [
        "# Cloud Classification \n",
        "# importer le dataset \n",
        "# geler les couches \n",
        "# copier les modèle précedent \n",
        "# voir les prédictions \n",
        "# voir option pour entrainement a distance \n"
      ]
    },
    {
      "cell_type": "code",
      "execution_count": 12,
      "metadata": {
        "colab": {
          "base_uri": "https://localhost:8080/"
        },
        "id": "H1aAxk1znVkq",
        "outputId": "2572bcd6-cd17-4254-8c62-f6fa8c6f77f8"
      },
      "outputs": [
        {
          "name": "stdout",
          "output_type": "stream",
          "text": [
            "Requirement already satisfied: roboflow in /home/anas/miniconda3/envs/datascience_env/lib/python3.9/site-packages (1.0.3)\n",
            "Requirement already satisfied: kiwisolver>=1.3.1 in /home/anas/miniconda3/envs/datascience_env/lib/python3.9/site-packages (from roboflow) (1.4.4)\n",
            "Requirement already satisfied: chardet==4.0.0 in /home/anas/miniconda3/envs/datascience_env/lib/python3.9/site-packages (from roboflow) (4.0.0)\n",
            "Requirement already satisfied: opencv-python>=4.1.2 in /home/anas/miniconda3/envs/datascience_env/lib/python3.9/site-packages (from roboflow) (4.7.0.72)\n",
            "Requirement already satisfied: idna==2.10 in /home/anas/miniconda3/envs/datascience_env/lib/python3.9/site-packages (from roboflow) (2.10)\n",
            "Requirement already satisfied: requests in /home/anas/miniconda3/envs/datascience_env/lib/python3.9/site-packages (from roboflow) (2.28.1)\n",
            "Requirement already satisfied: Pillow>=7.1.2 in /home/anas/miniconda3/envs/datascience_env/lib/python3.9/site-packages (from roboflow) (9.3.0)\n",
            "Requirement already satisfied: numpy>=1.18.5 in /home/anas/miniconda3/envs/datascience_env/lib/python3.9/site-packages (from roboflow) (1.23.5)\n",
            "Requirement already satisfied: certifi==2022.12.7 in /home/anas/miniconda3/envs/datascience_env/lib/python3.9/site-packages (from roboflow) (2022.12.7)\n",
            "Requirement already satisfied: requests-toolbelt in /home/anas/miniconda3/envs/datascience_env/lib/python3.9/site-packages (from roboflow) (0.10.1)\n",
            "Requirement already satisfied: pyparsing==2.4.7 in /home/anas/miniconda3/envs/datascience_env/lib/python3.9/site-packages (from roboflow) (2.4.7)\n",
            "Requirement already satisfied: cycler==0.10.0 in /home/anas/miniconda3/envs/datascience_env/lib/python3.9/site-packages (from roboflow) (0.10.0)\n",
            "Requirement already satisfied: urllib3>=1.26.6 in /home/anas/miniconda3/envs/datascience_env/lib/python3.9/site-packages (from roboflow) (1.26.13)\n",
            "Requirement already satisfied: python-dateutil in /home/anas/miniconda3/envs/datascience_env/lib/python3.9/site-packages (from roboflow) (2.8.2)\n",
            "Requirement already satisfied: PyYAML>=5.3.1 in /home/anas/miniconda3/envs/datascience_env/lib/python3.9/site-packages (from roboflow) (6.0)\n",
            "Requirement already satisfied: matplotlib in /home/anas/miniconda3/envs/datascience_env/lib/python3.9/site-packages (from roboflow) (3.5.3)\n",
            "Requirement already satisfied: six in /home/anas/miniconda3/envs/datascience_env/lib/python3.9/site-packages (from roboflow) (1.16.0)\n",
            "Requirement already satisfied: python-dotenv in /home/anas/miniconda3/envs/datascience_env/lib/python3.9/site-packages (from roboflow) (1.0.0)\n",
            "Requirement already satisfied: wget in /home/anas/miniconda3/envs/datascience_env/lib/python3.9/site-packages (from roboflow) (3.2)\n",
            "Requirement already satisfied: tqdm>=4.41.0 in /home/anas/miniconda3/envs/datascience_env/lib/python3.9/site-packages (from roboflow) (4.64.1)\n",
            "Requirement already satisfied: fonttools>=4.22.0 in /home/anas/miniconda3/envs/datascience_env/lib/python3.9/site-packages (from matplotlib->roboflow) (4.25.0)\n",
            "Requirement already satisfied: packaging>=20.0 in /home/anas/miniconda3/envs/datascience_env/lib/python3.9/site-packages (from matplotlib->roboflow) (22.0)\n",
            "Requirement already satisfied: charset-normalizer<3,>=2 in /home/anas/miniconda3/envs/datascience_env/lib/python3.9/site-packages (from requests->roboflow) (2.0.4)\n",
            "Requirement already satisfied: ultralytics in /home/anas/miniconda3/envs/datascience_env/lib/python3.9/site-packages (8.0.20)\n",
            "Requirement already satisfied: thop>=0.1.1 in /home/anas/miniconda3/envs/datascience_env/lib/python3.9/site-packages (from ultralytics) (0.1.1.post2209072238)\n",
            "Requirement already satisfied: seaborn>=0.11.0 in /home/anas/miniconda3/envs/datascience_env/lib/python3.9/site-packages (from ultralytics) (0.12.1)\n",
            "Requirement already satisfied: tqdm>=4.64.0 in /home/anas/miniconda3/envs/datascience_env/lib/python3.9/site-packages (from ultralytics) (4.64.1)\n",
            "Requirement already satisfied: sentry-sdk in /home/anas/miniconda3/envs/datascience_env/lib/python3.9/site-packages (from ultralytics) (1.19.1)\n",
            "Requirement already satisfied: requests>=2.23.0 in /home/anas/miniconda3/envs/datascience_env/lib/python3.9/site-packages (from ultralytics) (2.28.1)\n",
            "Requirement already satisfied: torchvision>=0.8.1 in /home/anas/miniconda3/envs/datascience_env/lib/python3.9/site-packages (from ultralytics) (0.15.1)\n",
            "Requirement already satisfied: scipy>=1.4.1 in /home/anas/miniconda3/envs/datascience_env/lib/python3.9/site-packages (from ultralytics) (1.9.3)\n",
            "Requirement already satisfied: tensorboard>=2.4.1 in /home/anas/miniconda3/envs/datascience_env/lib/python3.9/site-packages (from ultralytics) (2.12.1)\n",
            "Requirement already satisfied: psutil in /home/anas/miniconda3/envs/datascience_env/lib/python3.9/site-packages (from ultralytics) (5.9.0)\n",
            "Requirement already satisfied: pandas>=1.1.4 in /home/anas/miniconda3/envs/datascience_env/lib/python3.9/site-packages (from ultralytics) (1.5.3)\n",
            "Requirement already satisfied: ipython in /home/anas/miniconda3/envs/datascience_env/lib/python3.9/site-packages (from ultralytics) (8.7.0)\n",
            "Requirement already satisfied: PyYAML>=5.3.1 in /home/anas/miniconda3/envs/datascience_env/lib/python3.9/site-packages (from ultralytics) (6.0)\n",
            "Requirement already satisfied: Pillow>=7.1.2 in /home/anas/miniconda3/envs/datascience_env/lib/python3.9/site-packages (from ultralytics) (9.3.0)\n",
            "Requirement already satisfied: opencv-python>=4.6.0 in /home/anas/miniconda3/envs/datascience_env/lib/python3.9/site-packages (from ultralytics) (4.7.0.72)\n",
            "Requirement already satisfied: matplotlib>=3.2.2 in /home/anas/miniconda3/envs/datascience_env/lib/python3.9/site-packages (from ultralytics) (3.5.3)\n",
            "Requirement already satisfied: numpy>=1.18.5 in /home/anas/miniconda3/envs/datascience_env/lib/python3.9/site-packages (from ultralytics) (1.23.5)\n",
            "Requirement already satisfied: torch>=1.7.0 in /home/anas/miniconda3/envs/datascience_env/lib/python3.9/site-packages (from ultralytics) (2.0.0)\n",
            "Requirement already satisfied: cycler>=0.10 in /home/anas/miniconda3/envs/datascience_env/lib/python3.9/site-packages (from matplotlib>=3.2.2->ultralytics) (0.10.0)\n",
            "Requirement already satisfied: pyparsing>=2.2.1 in /home/anas/miniconda3/envs/datascience_env/lib/python3.9/site-packages (from matplotlib>=3.2.2->ultralytics) (2.4.7)\n",
            "Requirement already satisfied: fonttools>=4.22.0 in /home/anas/miniconda3/envs/datascience_env/lib/python3.9/site-packages (from matplotlib>=3.2.2->ultralytics) (4.25.0)\n",
            "Requirement already satisfied: python-dateutil>=2.7 in /home/anas/miniconda3/envs/datascience_env/lib/python3.9/site-packages (from matplotlib>=3.2.2->ultralytics) (2.8.2)\n",
            "Requirement already satisfied: packaging>=20.0 in /home/anas/miniconda3/envs/datascience_env/lib/python3.9/site-packages (from matplotlib>=3.2.2->ultralytics) (22.0)\n",
            "Requirement already satisfied: kiwisolver>=1.0.1 in /home/anas/miniconda3/envs/datascience_env/lib/python3.9/site-packages (from matplotlib>=3.2.2->ultralytics) (1.4.4)\n",
            "Requirement already satisfied: pytz>=2020.1 in /home/anas/miniconda3/envs/datascience_env/lib/python3.9/site-packages (from pandas>=1.1.4->ultralytics) (2022.7)\n",
            "Requirement already satisfied: urllib3<1.27,>=1.21.1 in /home/anas/miniconda3/envs/datascience_env/lib/python3.9/site-packages (from requests>=2.23.0->ultralytics) (1.26.13)\n",
            "Requirement already satisfied: certifi>=2017.4.17 in /home/anas/miniconda3/envs/datascience_env/lib/python3.9/site-packages (from requests>=2.23.0->ultralytics) (2022.12.7)\n",
            "Requirement already satisfied: charset-normalizer<3,>=2 in /home/anas/miniconda3/envs/datascience_env/lib/python3.9/site-packages (from requests>=2.23.0->ultralytics) (2.0.4)\n",
            "Requirement already satisfied: idna<4,>=2.5 in /home/anas/miniconda3/envs/datascience_env/lib/python3.9/site-packages (from requests>=2.23.0->ultralytics) (2.10)\n",
            "Requirement already satisfied: tensorboard-data-server<0.8.0,>=0.7.0 in /home/anas/miniconda3/envs/datascience_env/lib/python3.9/site-packages (from tensorboard>=2.4.1->ultralytics) (0.7.0)\n",
            "Requirement already satisfied: grpcio>=1.48.2 in /home/anas/miniconda3/envs/datascience_env/lib/python3.9/site-packages (from tensorboard>=2.4.1->ultralytics) (1.53.0)\n",
            "Requirement already satisfied: google-auth-oauthlib<1.1,>=0.5 in /home/anas/miniconda3/envs/datascience_env/lib/python3.9/site-packages (from tensorboard>=2.4.1->ultralytics) (1.0.0)\n",
            "Requirement already satisfied: protobuf>=3.19.6 in /home/anas/miniconda3/envs/datascience_env/lib/python3.9/site-packages (from tensorboard>=2.4.1->ultralytics) (4.22.1)\n",
            "Requirement already satisfied: wheel>=0.26 in /home/anas/miniconda3/envs/datascience_env/lib/python3.9/site-packages (from tensorboard>=2.4.1->ultralytics) (0.37.1)\n",
            "Requirement already satisfied: werkzeug>=1.0.1 in /home/anas/miniconda3/envs/datascience_env/lib/python3.9/site-packages (from tensorboard>=2.4.1->ultralytics) (2.2.3)\n",
            "Requirement already satisfied: absl-py>=0.4 in /home/anas/miniconda3/envs/datascience_env/lib/python3.9/site-packages (from tensorboard>=2.4.1->ultralytics) (1.4.0)\n",
            "Requirement already satisfied: setuptools>=41.0.0 in /home/anas/miniconda3/envs/datascience_env/lib/python3.9/site-packages (from tensorboard>=2.4.1->ultralytics) (65.5.0)\n",
            "Requirement already satisfied: google-auth<3,>=1.6.3 in /home/anas/miniconda3/envs/datascience_env/lib/python3.9/site-packages (from tensorboard>=2.4.1->ultralytics) (2.17.2)\n",
            "Requirement already satisfied: tensorboard-plugin-wit>=1.6.0 in /home/anas/miniconda3/envs/datascience_env/lib/python3.9/site-packages (from tensorboard>=2.4.1->ultralytics) (1.8.1)\n",
            "Requirement already satisfied: markdown>=2.6.8 in /home/anas/miniconda3/envs/datascience_env/lib/python3.9/site-packages (from tensorboard>=2.4.1->ultralytics) (3.4.3)\n",
            "Requirement already satisfied: nvidia-cublas-cu11==11.10.3.66 in /home/anas/miniconda3/envs/datascience_env/lib/python3.9/site-packages (from torch>=1.7.0->ultralytics) (11.10.3.66)\n",
            "Requirement already satisfied: nvidia-cusolver-cu11==11.4.0.1 in /home/anas/miniconda3/envs/datascience_env/lib/python3.9/site-packages (from torch>=1.7.0->ultralytics) (11.4.0.1)\n",
            "Requirement already satisfied: nvidia-curand-cu11==10.2.10.91 in /home/anas/miniconda3/envs/datascience_env/lib/python3.9/site-packages (from torch>=1.7.0->ultralytics) (10.2.10.91)\n",
            "Requirement already satisfied: nvidia-nccl-cu11==2.14.3 in /home/anas/miniconda3/envs/datascience_env/lib/python3.9/site-packages (from torch>=1.7.0->ultralytics) (2.14.3)\n",
            "Requirement already satisfied: nvidia-cuda-runtime-cu11==11.7.99 in /home/anas/miniconda3/envs/datascience_env/lib/python3.9/site-packages (from torch>=1.7.0->ultralytics) (11.7.99)\n",
            "Requirement already satisfied: networkx in /home/anas/miniconda3/envs/datascience_env/lib/python3.9/site-packages (from torch>=1.7.0->ultralytics) (3.1)\n",
            "Requirement already satisfied: sympy in /home/anas/miniconda3/envs/datascience_env/lib/python3.9/site-packages (from torch>=1.7.0->ultralytics) (1.11.1)\n",
            "Requirement already satisfied: triton==2.0.0 in /home/anas/miniconda3/envs/datascience_env/lib/python3.9/site-packages (from torch>=1.7.0->ultralytics) (2.0.0)\n",
            "Requirement already satisfied: nvidia-nvtx-cu11==11.7.91 in /home/anas/miniconda3/envs/datascience_env/lib/python3.9/site-packages (from torch>=1.7.0->ultralytics) (11.7.91)\n",
            "Requirement already satisfied: jinja2 in /home/anas/miniconda3/envs/datascience_env/lib/python3.9/site-packages (from torch>=1.7.0->ultralytics) (3.1.2)\n",
            "Requirement already satisfied: filelock in /home/anas/miniconda3/envs/datascience_env/lib/python3.9/site-packages (from torch>=1.7.0->ultralytics) (3.11.0)\n",
            "Requirement already satisfied: nvidia-cusparse-cu11==11.7.4.91 in /home/anas/miniconda3/envs/datascience_env/lib/python3.9/site-packages (from torch>=1.7.0->ultralytics) (11.7.4.91)\n",
            "Requirement already satisfied: typing-extensions in /home/anas/miniconda3/envs/datascience_env/lib/python3.9/site-packages (from torch>=1.7.0->ultralytics) (4.4.0)\n",
            "Requirement already satisfied: nvidia-cuda-nvrtc-cu11==11.7.99 in /home/anas/miniconda3/envs/datascience_env/lib/python3.9/site-packages (from torch>=1.7.0->ultralytics) (11.7.99)\n",
            "Requirement already satisfied: nvidia-cuda-cupti-cu11==11.7.101 in /home/anas/miniconda3/envs/datascience_env/lib/python3.9/site-packages (from torch>=1.7.0->ultralytics) (11.7.101)\n",
            "Requirement already satisfied: nvidia-cufft-cu11==10.9.0.58 in /home/anas/miniconda3/envs/datascience_env/lib/python3.9/site-packages (from torch>=1.7.0->ultralytics) (10.9.0.58)\n",
            "Requirement already satisfied: nvidia-cudnn-cu11==8.5.0.96 in /home/anas/miniconda3/envs/datascience_env/lib/python3.9/site-packages (from torch>=1.7.0->ultralytics) (8.5.0.96)\n",
            "Requirement already satisfied: cmake in /home/anas/miniconda3/envs/datascience_env/lib/python3.9/site-packages (from triton==2.0.0->torch>=1.7.0->ultralytics) (3.26.3)\n",
            "Requirement already satisfied: lit in /home/anas/miniconda3/envs/datascience_env/lib/python3.9/site-packages (from triton==2.0.0->torch>=1.7.0->ultralytics) (16.0.1)\n",
            "Requirement already satisfied: backcall in /home/anas/miniconda3/envs/datascience_env/lib/python3.9/site-packages (from ipython->ultralytics) (0.2.0)\n",
            "Requirement already satisfied: pickleshare in /home/anas/miniconda3/envs/datascience_env/lib/python3.9/site-packages (from ipython->ultralytics) (0.7.5)\n",
            "Requirement already satisfied: traitlets>=5 in /home/anas/miniconda3/envs/datascience_env/lib/python3.9/site-packages (from ipython->ultralytics) (5.7.1)\n",
            "Requirement already satisfied: stack-data in /home/anas/miniconda3/envs/datascience_env/lib/python3.9/site-packages (from ipython->ultralytics) (0.2.0)\n",
            "Requirement already satisfied: jedi>=0.16 in /home/anas/miniconda3/envs/datascience_env/lib/python3.9/site-packages (from ipython->ultralytics) (0.18.1)\n",
            "Requirement already satisfied: pygments>=2.4.0 in /home/anas/miniconda3/envs/datascience_env/lib/python3.9/site-packages (from ipython->ultralytics) (2.11.2)\n",
            "Requirement already satisfied: matplotlib-inline in /home/anas/miniconda3/envs/datascience_env/lib/python3.9/site-packages (from ipython->ultralytics) (0.1.6)\n",
            "Requirement already satisfied: decorator in /home/anas/miniconda3/envs/datascience_env/lib/python3.9/site-packages (from ipython->ultralytics) (5.1.1)\n",
            "Requirement already satisfied: prompt-toolkit<3.1.0,>=3.0.11 in /home/anas/miniconda3/envs/datascience_env/lib/python3.9/site-packages (from ipython->ultralytics) (3.0.36)\n",
            "Requirement already satisfied: pexpect>4.3 in /home/anas/miniconda3/envs/datascience_env/lib/python3.9/site-packages (from ipython->ultralytics) (4.8.0)\n",
            "Requirement already satisfied: six in /home/anas/miniconda3/envs/datascience_env/lib/python3.9/site-packages (from cycler>=0.10->matplotlib>=3.2.2->ultralytics) (1.16.0)\n",
            "Requirement already satisfied: rsa<5,>=3.1.4 in /home/anas/miniconda3/envs/datascience_env/lib/python3.9/site-packages (from google-auth<3,>=1.6.3->tensorboard>=2.4.1->ultralytics) (4.9)\n",
            "Requirement already satisfied: pyasn1-modules>=0.2.1 in /home/anas/miniconda3/envs/datascience_env/lib/python3.9/site-packages (from google-auth<3,>=1.6.3->tensorboard>=2.4.1->ultralytics) (0.2.8)\n",
            "Requirement already satisfied: cachetools<6.0,>=2.0.0 in /home/anas/miniconda3/envs/datascience_env/lib/python3.9/site-packages (from google-auth<3,>=1.6.3->tensorboard>=2.4.1->ultralytics) (4.2.2)\n",
            "Requirement already satisfied: requests-oauthlib>=0.7.0 in /home/anas/miniconda3/envs/datascience_env/lib/python3.9/site-packages (from google-auth-oauthlib<1.1,>=0.5->tensorboard>=2.4.1->ultralytics) (1.3.1)\n",
            "Requirement already satisfied: parso<0.9.0,>=0.8.0 in /home/anas/miniconda3/envs/datascience_env/lib/python3.9/site-packages (from jedi>=0.16->ipython->ultralytics) (0.8.3)\n",
            "Requirement already satisfied: importlib-metadata>=4.4 in /home/anas/miniconda3/envs/datascience_env/lib/python3.9/site-packages (from markdown>=2.6.8->tensorboard>=2.4.1->ultralytics) (4.11.3)\n",
            "Requirement already satisfied: ptyprocess>=0.5 in /home/anas/miniconda3/envs/datascience_env/lib/python3.9/site-packages (from pexpect>4.3->ipython->ultralytics) (0.7.0)\n",
            "Requirement already satisfied: wcwidth in /home/anas/miniconda3/envs/datascience_env/lib/python3.9/site-packages (from prompt-toolkit<3.1.0,>=3.0.11->ipython->ultralytics) (0.2.5)\n",
            "Requirement already satisfied: MarkupSafe>=2.1.1 in /home/anas/miniconda3/envs/datascience_env/lib/python3.9/site-packages (from werkzeug>=1.0.1->tensorboard>=2.4.1->ultralytics) (2.1.1)\n",
            "Requirement already satisfied: executing in /home/anas/miniconda3/envs/datascience_env/lib/python3.9/site-packages (from stack-data->ipython->ultralytics) (0.8.3)\n",
            "Requirement already satisfied: pure-eval in /home/anas/miniconda3/envs/datascience_env/lib/python3.9/site-packages (from stack-data->ipython->ultralytics) (0.2.2)\n",
            "Requirement already satisfied: asttokens in /home/anas/miniconda3/envs/datascience_env/lib/python3.9/site-packages (from stack-data->ipython->ultralytics) (2.0.5)\n",
            "Requirement already satisfied: mpmath>=0.19 in /home/anas/miniconda3/envs/datascience_env/lib/python3.9/site-packages (from sympy->torch>=1.7.0->ultralytics) (1.3.0)\n",
            "Requirement already satisfied: zipp>=0.5 in /home/anas/miniconda3/envs/datascience_env/lib/python3.9/site-packages (from importlib-metadata>=4.4->markdown>=2.6.8->tensorboard>=2.4.1->ultralytics) (3.11.0)\n",
            "Requirement already satisfied: pyasn1<0.5.0,>=0.4.6 in /home/anas/miniconda3/envs/datascience_env/lib/python3.9/site-packages (from pyasn1-modules>=0.2.1->google-auth<3,>=1.6.3->tensorboard>=2.4.1->ultralytics) (0.4.8)\n",
            "Requirement already satisfied: oauthlib>=3.0.0 in /home/anas/miniconda3/envs/datascience_env/lib/python3.9/site-packages (from requests-oauthlib>=0.7.0->google-auth-oauthlib<1.1,>=0.5->tensorboard>=2.4.1->ultralytics) (3.2.2)\n",
            "loading Roboflow workspace...\n",
            "loading Roboflow project...\n",
            "Downloading Dataset Version Zip in counter-2 to yolov8: 100% [106349185 / 106349185] bytes\n"
          ]
        },
        {
          "name": "stderr",
          "output_type": "stream",
          "text": [
            "Extracting Dataset Version Zip to counter-2 in yolov8:: 100%|██████████| 4030/4030 [00:00<00:00, 14315.33it/s]\n"
          ]
        }
      ],
      "source": [
        "!pip install roboflow\n",
        "!pip install ultralytics\n",
        "\n",
        "from roboflow import Roboflow\n",
        "rf = Roboflow(api_key=\"7bZ5szG3Hf3HeFQpypnv\")\n",
        "project = rf.workspace(\"simplon-smpvy\").project(\"counter-y13yi\")\n",
        "dataset = project.version(2).download(\"yolov8\")"
      ]
    },
    {
      "cell_type": "code",
      "execution_count": 2,
      "metadata": {
        "id": "Oza2lQoNn11m"
      },
      "outputs": [
        {
          "name": "stderr",
          "output_type": "stream",
          "text": [
            "2023-04-11 15:53:54.162994: I tensorflow/core/util/port.cc:110] oneDNN custom operations are on. You may see slightly different numerical results due to floating-point round-off errors from different computation orders. To turn them off, set the environment variable `TF_ENABLE_ONEDNN_OPTS=0`.\n",
            "2023-04-11 15:53:54.164447: I tensorflow/tsl/cuda/cudart_stub.cc:28] Could not find cuda drivers on your machine, GPU will not be used.\n",
            "2023-04-11 15:53:54.190738: I tensorflow/tsl/cuda/cudart_stub.cc:28] Could not find cuda drivers on your machine, GPU will not be used.\n",
            "2023-04-11 15:53:54.191297: I tensorflow/core/platform/cpu_feature_guard.cc:182] This TensorFlow binary is optimized to use available CPU instructions in performance-critical operations.\n",
            "To enable the following instructions: AVX2 AVX_VNNI FMA, in other operations, rebuild TensorFlow with the appropriate compiler flags.\n",
            "2023-04-11 15:53:54.715062: W tensorflow/compiler/tf2tensorrt/utils/py_utils.cc:38] TF-TRT Warning: Could not find TensorRT\n"
          ]
        }
      ],
      "source": [
        "import tensorflow as tf\n",
        "\n",
        "from tensorflow.keras import datasets, layers, models\n",
        "import matplotlib.pyplot as plt"
      ]
    },
    {
      "cell_type": "code",
      "execution_count": 3,
      "metadata": {
        "colab": {
          "base_uri": "https://localhost:8080/"
        },
        "id": "-KrxyViI9iDx",
        "outputId": "d28851f6-7441-450d-d3ef-40ed65bf4a16"
      },
      "outputs": [
        {
          "name": "stdout",
          "output_type": "stream",
          "text": [
            "Ultralytics YOLOv8.0.74 🚀 Python-3.9.12 torch-2.0.0+cu117 CPU\n",
            "\u001b[34m\u001b[1myolo/engine/trainer: \u001b[0mtask=detect, mode=train, model=yolov8s.pt, data={dataset.location}/data.yaml, epochs=5, patience=50, batch=16, imgsz=800, save=True, save_period=-1, cache=False, device=None, workers=8, project=None, name=None, exist_ok=False, pretrained=False, optimizer=SGD, verbose=True, seed=0, deterministic=True, single_cls=False, image_weights=False, rect=False, cos_lr=False, close_mosaic=0, resume=False, amp=True, overlap_mask=True, mask_ratio=4, dropout=0.0, val=True, split=val, save_json=False, save_hybrid=False, conf=None, iou=0.7, max_det=300, half=False, dnn=False, plots=True, source=None, show=False, save_txt=False, save_conf=False, save_crop=False, show_labels=True, show_conf=True, vid_stride=1, line_thickness=3, visualize=False, augment=False, agnostic_nms=False, classes=None, retina_masks=False, boxes=True, format=torchscript, keras=False, optimize=False, int8=False, dynamic=False, simplify=False, opset=None, workspace=4, nms=False, lr0=0.01, lrf=0.01, momentum=0.937, weight_decay=0.0005, warmup_epochs=3.0, warmup_momentum=0.8, warmup_bias_lr=0.1, box=7.5, cls=0.5, dfl=1.5, pose=12.0, kobj=1.0, label_smoothing=0.0, nbs=64, hsv_h=0.015, hsv_s=0.7, hsv_v=0.4, degrees=0.0, translate=0.1, scale=0.5, shear=0.0, perspective=0.0, flipud=0.0, fliplr=0.5, mosaic=1.0, mixup=0.0, copy_paste=0.0, cfg=None, v5loader=False, tracker=botsort.yaml, save_dir=runs/detect/train2\n",
            "Traceback (most recent call last):\n",
            "  File \"/home/anas/miniconda3/envs/datascience_env/lib/python3.9/site-packages/ultralytics/yolo/engine/trainer.py\", line 122, in __init__\n",
            "    self.data = check_det_dataset(self.args.data)\n",
            "  File \"/home/anas/miniconda3/envs/datascience_env/lib/python3.9/site-packages/ultralytics/yolo/data/utils.py\", line 195, in check_det_dataset\n",
            "    data = check_file(dataset)\n",
            "  File \"/home/anas/miniconda3/envs/datascience_env/lib/python3.9/site-packages/ultralytics/yolo/utils/checks.py\", line 281, in check_file\n",
            "    raise FileNotFoundError(f\"'{file}' does not exist\")\n",
            "FileNotFoundError: '{dataset.location}/data.yaml' does not exist\n",
            "\n",
            "The above exception was the direct cause of the following exception:\n",
            "\n",
            "Traceback (most recent call last):\n",
            "  File \"/home/anas/miniconda3/envs/datascience_env/bin/yolo\", line 8, in <module>\n",
            "    sys.exit(entrypoint())\n",
            "  File \"/home/anas/miniconda3/envs/datascience_env/lib/python3.9/site-packages/ultralytics/yolo/cfg/__init__.py\", line 391, in entrypoint\n",
            "    getattr(model, mode)(**overrides)  # default args from model\n",
            "  File \"/home/anas/miniconda3/envs/datascience_env/lib/python3.9/site-packages/ultralytics/yolo/engine/model.py\", line 362, in train\n",
            "    self.trainer = TASK_MAP[self.task][1](overrides=overrides, _callbacks=self.callbacks)\n",
            "  File \"/home/anas/miniconda3/envs/datascience_env/lib/python3.9/site-packages/ultralytics/yolo/engine/trainer.py\", line 126, in __init__\n",
            "    raise RuntimeError(emojis(f\"Dataset '{clean_url(self.args.data)}' error ❌ {e}\")) from e\n",
            "RuntimeError: Dataset '{dataset.location}/data.yaml' error ❌ '{dataset.location}/data.yaml' does not exist\n"
          ]
        }
      ],
      "source": [
        "!yolo task=detect mode=train model=yolov8s.pt data={dataset.location}/data.yaml epochs=5 imgsz=800 plots=True"
      ]
    },
    {
      "cell_type": "code",
      "execution_count": 4,
      "metadata": {
        "colab": {
          "base_uri": "https://localhost:8080/"
        },
        "id": "1ny1dHNsSCO5",
        "outputId": "869d9cbc-29d8-4b72-a9b4-1de260b2e2b2"
      },
      "outputs": [
        {
          "name": "stdout",
          "output_type": "stream",
          "text": [
            "Collecting ultralytics==8.0.20\n",
            "  Downloading ultralytics-8.0.20-py3-none-any.whl (261 kB)\n",
            "\u001b[2K     \u001b[90m━━━━━━━━━━━━━━━━━━━━━━━━━━━━━━━━━━━━━━━\u001b[0m \u001b[32m261.2/261.2 kB\u001b[0m \u001b[31m4.4 MB/s\u001b[0m eta \u001b[36m0:00:00\u001b[0ma \u001b[36m0:00:01\u001b[0m\n",
            "\u001b[?25hRequirement already satisfied: pandas>=1.1.4 in /home/anas/miniconda3/envs/datascience_env/lib/python3.9/site-packages (from ultralytics==8.0.20) (1.5.3)\n",
            "Requirement already satisfied: tensorboard>=2.4.1 in /home/anas/miniconda3/envs/datascience_env/lib/python3.9/site-packages (from ultralytics==8.0.20) (2.12.1)\n",
            "Requirement already satisfied: thop>=0.1.1 in /home/anas/miniconda3/envs/datascience_env/lib/python3.9/site-packages (from ultralytics==8.0.20) (0.1.1.post2209072238)\n",
            "Requirement already satisfied: opencv-python>=4.6.0 in /home/anas/miniconda3/envs/datascience_env/lib/python3.9/site-packages (from ultralytics==8.0.20) (4.7.0.72)\n",
            "Requirement already satisfied: numpy>=1.18.5 in /home/anas/miniconda3/envs/datascience_env/lib/python3.9/site-packages (from ultralytics==8.0.20) (1.23.5)\n",
            "Requirement already satisfied: torch>=1.7.0 in /home/anas/miniconda3/envs/datascience_env/lib/python3.9/site-packages (from ultralytics==8.0.20) (2.0.0)\n",
            "Requirement already satisfied: psutil in /home/anas/miniconda3/envs/datascience_env/lib/python3.9/site-packages (from ultralytics==8.0.20) (5.9.0)\n",
            "Requirement already satisfied: scipy>=1.4.1 in /home/anas/miniconda3/envs/datascience_env/lib/python3.9/site-packages (from ultralytics==8.0.20) (1.9.3)\n",
            "Requirement already satisfied: sentry-sdk in /home/anas/miniconda3/envs/datascience_env/lib/python3.9/site-packages (from ultralytics==8.0.20) (1.19.1)\n",
            "Requirement already satisfied: PyYAML>=5.3.1 in /home/anas/miniconda3/envs/datascience_env/lib/python3.9/site-packages (from ultralytics==8.0.20) (6.0)\n",
            "Requirement already satisfied: torchvision>=0.8.1 in /home/anas/miniconda3/envs/datascience_env/lib/python3.9/site-packages (from ultralytics==8.0.20) (0.15.1)\n",
            "Requirement already satisfied: matplotlib>=3.2.2 in /home/anas/miniconda3/envs/datascience_env/lib/python3.9/site-packages (from ultralytics==8.0.20) (3.5.3)\n",
            "Requirement already satisfied: seaborn>=0.11.0 in /home/anas/miniconda3/envs/datascience_env/lib/python3.9/site-packages (from ultralytics==8.0.20) (0.12.1)\n",
            "Requirement already satisfied: ipython in /home/anas/miniconda3/envs/datascience_env/lib/python3.9/site-packages (from ultralytics==8.0.20) (8.7.0)\n",
            "Requirement already satisfied: tqdm>=4.64.0 in /home/anas/miniconda3/envs/datascience_env/lib/python3.9/site-packages (from ultralytics==8.0.20) (4.64.1)\n",
            "Requirement already satisfied: requests>=2.23.0 in /home/anas/miniconda3/envs/datascience_env/lib/python3.9/site-packages (from ultralytics==8.0.20) (2.28.1)\n",
            "Requirement already satisfied: Pillow>=7.1.2 in /home/anas/miniconda3/envs/datascience_env/lib/python3.9/site-packages (from ultralytics==8.0.20) (9.3.0)\n",
            "Requirement already satisfied: cycler>=0.10 in /home/anas/miniconda3/envs/datascience_env/lib/python3.9/site-packages (from matplotlib>=3.2.2->ultralytics==8.0.20) (0.10.0)\n",
            "Requirement already satisfied: python-dateutil>=2.7 in /home/anas/miniconda3/envs/datascience_env/lib/python3.9/site-packages (from matplotlib>=3.2.2->ultralytics==8.0.20) (2.8.2)\n",
            "Requirement already satisfied: packaging>=20.0 in /home/anas/miniconda3/envs/datascience_env/lib/python3.9/site-packages (from matplotlib>=3.2.2->ultralytics==8.0.20) (22.0)\n",
            "Requirement already satisfied: kiwisolver>=1.0.1 in /home/anas/miniconda3/envs/datascience_env/lib/python3.9/site-packages (from matplotlib>=3.2.2->ultralytics==8.0.20) (1.4.4)\n",
            "Requirement already satisfied: pyparsing>=2.2.1 in /home/anas/miniconda3/envs/datascience_env/lib/python3.9/site-packages (from matplotlib>=3.2.2->ultralytics==8.0.20) (2.4.7)\n",
            "Requirement already satisfied: fonttools>=4.22.0 in /home/anas/miniconda3/envs/datascience_env/lib/python3.9/site-packages (from matplotlib>=3.2.2->ultralytics==8.0.20) (4.25.0)\n",
            "Requirement already satisfied: pytz>=2020.1 in /home/anas/miniconda3/envs/datascience_env/lib/python3.9/site-packages (from pandas>=1.1.4->ultralytics==8.0.20) (2022.7)\n",
            "Requirement already satisfied: charset-normalizer<3,>=2 in /home/anas/miniconda3/envs/datascience_env/lib/python3.9/site-packages (from requests>=2.23.0->ultralytics==8.0.20) (2.0.4)\n",
            "Requirement already satisfied: idna<4,>=2.5 in /home/anas/miniconda3/envs/datascience_env/lib/python3.9/site-packages (from requests>=2.23.0->ultralytics==8.0.20) (2.10)\n",
            "Requirement already satisfied: certifi>=2017.4.17 in /home/anas/miniconda3/envs/datascience_env/lib/python3.9/site-packages (from requests>=2.23.0->ultralytics==8.0.20) (2022.12.7)\n",
            "Requirement already satisfied: urllib3<1.27,>=1.21.1 in /home/anas/miniconda3/envs/datascience_env/lib/python3.9/site-packages (from requests>=2.23.0->ultralytics==8.0.20) (1.26.13)\n",
            "Requirement already satisfied: google-auth<3,>=1.6.3 in /home/anas/miniconda3/envs/datascience_env/lib/python3.9/site-packages (from tensorboard>=2.4.1->ultralytics==8.0.20) (2.17.2)\n",
            "Requirement already satisfied: tensorboard-plugin-wit>=1.6.0 in /home/anas/miniconda3/envs/datascience_env/lib/python3.9/site-packages (from tensorboard>=2.4.1->ultralytics==8.0.20) (1.8.1)\n",
            "Requirement already satisfied: wheel>=0.26 in /home/anas/miniconda3/envs/datascience_env/lib/python3.9/site-packages (from tensorboard>=2.4.1->ultralytics==8.0.20) (0.37.1)\n",
            "Requirement already satisfied: setuptools>=41.0.0 in /home/anas/miniconda3/envs/datascience_env/lib/python3.9/site-packages (from tensorboard>=2.4.1->ultralytics==8.0.20) (65.5.0)\n",
            "Requirement already satisfied: protobuf>=3.19.6 in /home/anas/miniconda3/envs/datascience_env/lib/python3.9/site-packages (from tensorboard>=2.4.1->ultralytics==8.0.20) (4.22.1)\n",
            "Requirement already satisfied: grpcio>=1.48.2 in /home/anas/miniconda3/envs/datascience_env/lib/python3.9/site-packages (from tensorboard>=2.4.1->ultralytics==8.0.20) (1.53.0)\n",
            "Requirement already satisfied: markdown>=2.6.8 in /home/anas/miniconda3/envs/datascience_env/lib/python3.9/site-packages (from tensorboard>=2.4.1->ultralytics==8.0.20) (3.4.3)\n",
            "Requirement already satisfied: google-auth-oauthlib<1.1,>=0.5 in /home/anas/miniconda3/envs/datascience_env/lib/python3.9/site-packages (from tensorboard>=2.4.1->ultralytics==8.0.20) (1.0.0)\n",
            "Requirement already satisfied: tensorboard-data-server<0.8.0,>=0.7.0 in /home/anas/miniconda3/envs/datascience_env/lib/python3.9/site-packages (from tensorboard>=2.4.1->ultralytics==8.0.20) (0.7.0)\n",
            "Requirement already satisfied: werkzeug>=1.0.1 in /home/anas/miniconda3/envs/datascience_env/lib/python3.9/site-packages (from tensorboard>=2.4.1->ultralytics==8.0.20) (2.2.3)\n",
            "Requirement already satisfied: absl-py>=0.4 in /home/anas/miniconda3/envs/datascience_env/lib/python3.9/site-packages (from tensorboard>=2.4.1->ultralytics==8.0.20) (1.4.0)\n",
            "Requirement already satisfied: jinja2 in /home/anas/miniconda3/envs/datascience_env/lib/python3.9/site-packages (from torch>=1.7.0->ultralytics==8.0.20) (3.1.2)\n",
            "Requirement already satisfied: networkx in /home/anas/miniconda3/envs/datascience_env/lib/python3.9/site-packages (from torch>=1.7.0->ultralytics==8.0.20) (3.1)\n",
            "Requirement already satisfied: nvidia-cuda-nvrtc-cu11==11.7.99 in /home/anas/miniconda3/envs/datascience_env/lib/python3.9/site-packages (from torch>=1.7.0->ultralytics==8.0.20) (11.7.99)\n",
            "Requirement already satisfied: nvidia-cuda-cupti-cu11==11.7.101 in /home/anas/miniconda3/envs/datascience_env/lib/python3.9/site-packages (from torch>=1.7.0->ultralytics==8.0.20) (11.7.101)\n",
            "Requirement already satisfied: sympy in /home/anas/miniconda3/envs/datascience_env/lib/python3.9/site-packages (from torch>=1.7.0->ultralytics==8.0.20) (1.11.1)\n",
            "Requirement already satisfied: nvidia-cublas-cu11==11.10.3.66 in /home/anas/miniconda3/envs/datascience_env/lib/python3.9/site-packages (from torch>=1.7.0->ultralytics==8.0.20) (11.10.3.66)\n",
            "Requirement already satisfied: nvidia-cuda-runtime-cu11==11.7.99 in /home/anas/miniconda3/envs/datascience_env/lib/python3.9/site-packages (from torch>=1.7.0->ultralytics==8.0.20) (11.7.99)\n",
            "Requirement already satisfied: nvidia-cufft-cu11==10.9.0.58 in /home/anas/miniconda3/envs/datascience_env/lib/python3.9/site-packages (from torch>=1.7.0->ultralytics==8.0.20) (10.9.0.58)\n",
            "Requirement already satisfied: nvidia-cudnn-cu11==8.5.0.96 in /home/anas/miniconda3/envs/datascience_env/lib/python3.9/site-packages (from torch>=1.7.0->ultralytics==8.0.20) (8.5.0.96)\n",
            "Requirement already satisfied: nvidia-nvtx-cu11==11.7.91 in /home/anas/miniconda3/envs/datascience_env/lib/python3.9/site-packages (from torch>=1.7.0->ultralytics==8.0.20) (11.7.91)\n",
            "Requirement already satisfied: triton==2.0.0 in /home/anas/miniconda3/envs/datascience_env/lib/python3.9/site-packages (from torch>=1.7.0->ultralytics==8.0.20) (2.0.0)\n",
            "Requirement already satisfied: typing-extensions in /home/anas/miniconda3/envs/datascience_env/lib/python3.9/site-packages (from torch>=1.7.0->ultralytics==8.0.20) (4.4.0)\n",
            "Requirement already satisfied: nvidia-curand-cu11==10.2.10.91 in /home/anas/miniconda3/envs/datascience_env/lib/python3.9/site-packages (from torch>=1.7.0->ultralytics==8.0.20) (10.2.10.91)\n",
            "Requirement already satisfied: nvidia-cusparse-cu11==11.7.4.91 in /home/anas/miniconda3/envs/datascience_env/lib/python3.9/site-packages (from torch>=1.7.0->ultralytics==8.0.20) (11.7.4.91)\n",
            "Requirement already satisfied: filelock in /home/anas/miniconda3/envs/datascience_env/lib/python3.9/site-packages (from torch>=1.7.0->ultralytics==8.0.20) (3.11.0)\n",
            "Requirement already satisfied: nvidia-cusolver-cu11==11.4.0.1 in /home/anas/miniconda3/envs/datascience_env/lib/python3.9/site-packages (from torch>=1.7.0->ultralytics==8.0.20) (11.4.0.1)\n",
            "Requirement already satisfied: nvidia-nccl-cu11==2.14.3 in /home/anas/miniconda3/envs/datascience_env/lib/python3.9/site-packages (from torch>=1.7.0->ultralytics==8.0.20) (2.14.3)\n",
            "Requirement already satisfied: lit in /home/anas/miniconda3/envs/datascience_env/lib/python3.9/site-packages (from triton==2.0.0->torch>=1.7.0->ultralytics==8.0.20) (16.0.1)\n",
            "Requirement already satisfied: cmake in /home/anas/miniconda3/envs/datascience_env/lib/python3.9/site-packages (from triton==2.0.0->torch>=1.7.0->ultralytics==8.0.20) (3.26.3)\n",
            "Requirement already satisfied: matplotlib-inline in /home/anas/miniconda3/envs/datascience_env/lib/python3.9/site-packages (from ipython->ultralytics==8.0.20) (0.1.6)\n",
            "Requirement already satisfied: traitlets>=5 in /home/anas/miniconda3/envs/datascience_env/lib/python3.9/site-packages (from ipython->ultralytics==8.0.20) (5.7.1)\n",
            "Requirement already satisfied: pexpect>4.3 in /home/anas/miniconda3/envs/datascience_env/lib/python3.9/site-packages (from ipython->ultralytics==8.0.20) (4.8.0)\n",
            "Requirement already satisfied: decorator in /home/anas/miniconda3/envs/datascience_env/lib/python3.9/site-packages (from ipython->ultralytics==8.0.20) (5.1.1)\n",
            "Requirement already satisfied: pickleshare in /home/anas/miniconda3/envs/datascience_env/lib/python3.9/site-packages (from ipython->ultralytics==8.0.20) (0.7.5)\n",
            "Requirement already satisfied: backcall in /home/anas/miniconda3/envs/datascience_env/lib/python3.9/site-packages (from ipython->ultralytics==8.0.20) (0.2.0)\n",
            "Requirement already satisfied: stack-data in /home/anas/miniconda3/envs/datascience_env/lib/python3.9/site-packages (from ipython->ultralytics==8.0.20) (0.2.0)\n",
            "Requirement already satisfied: pygments>=2.4.0 in /home/anas/miniconda3/envs/datascience_env/lib/python3.9/site-packages (from ipython->ultralytics==8.0.20) (2.11.2)\n",
            "Requirement already satisfied: jedi>=0.16 in /home/anas/miniconda3/envs/datascience_env/lib/python3.9/site-packages (from ipython->ultralytics==8.0.20) (0.18.1)\n",
            "Requirement already satisfied: prompt-toolkit<3.1.0,>=3.0.11 in /home/anas/miniconda3/envs/datascience_env/lib/python3.9/site-packages (from ipython->ultralytics==8.0.20) (3.0.36)\n",
            "Requirement already satisfied: six in /home/anas/miniconda3/envs/datascience_env/lib/python3.9/site-packages (from cycler>=0.10->matplotlib>=3.2.2->ultralytics==8.0.20) (1.16.0)\n",
            "Requirement already satisfied: rsa<5,>=3.1.4 in /home/anas/miniconda3/envs/datascience_env/lib/python3.9/site-packages (from google-auth<3,>=1.6.3->tensorboard>=2.4.1->ultralytics==8.0.20) (4.9)\n",
            "Requirement already satisfied: pyasn1-modules>=0.2.1 in /home/anas/miniconda3/envs/datascience_env/lib/python3.9/site-packages (from google-auth<3,>=1.6.3->tensorboard>=2.4.1->ultralytics==8.0.20) (0.2.8)\n",
            "Requirement already satisfied: cachetools<6.0,>=2.0.0 in /home/anas/miniconda3/envs/datascience_env/lib/python3.9/site-packages (from google-auth<3,>=1.6.3->tensorboard>=2.4.1->ultralytics==8.0.20) (4.2.2)\n",
            "Requirement already satisfied: requests-oauthlib>=0.7.0 in /home/anas/miniconda3/envs/datascience_env/lib/python3.9/site-packages (from google-auth-oauthlib<1.1,>=0.5->tensorboard>=2.4.1->ultralytics==8.0.20) (1.3.1)\n",
            "Requirement already satisfied: parso<0.9.0,>=0.8.0 in /home/anas/miniconda3/envs/datascience_env/lib/python3.9/site-packages (from jedi>=0.16->ipython->ultralytics==8.0.20) (0.8.3)\n",
            "Requirement already satisfied: importlib-metadata>=4.4 in /home/anas/miniconda3/envs/datascience_env/lib/python3.9/site-packages (from markdown>=2.6.8->tensorboard>=2.4.1->ultralytics==8.0.20) (4.11.3)\n",
            "Requirement already satisfied: ptyprocess>=0.5 in /home/anas/miniconda3/envs/datascience_env/lib/python3.9/site-packages (from pexpect>4.3->ipython->ultralytics==8.0.20) (0.7.0)\n",
            "Requirement already satisfied: wcwidth in /home/anas/miniconda3/envs/datascience_env/lib/python3.9/site-packages (from prompt-toolkit<3.1.0,>=3.0.11->ipython->ultralytics==8.0.20) (0.2.5)\n",
            "Requirement already satisfied: MarkupSafe>=2.1.1 in /home/anas/miniconda3/envs/datascience_env/lib/python3.9/site-packages (from werkzeug>=1.0.1->tensorboard>=2.4.1->ultralytics==8.0.20) (2.1.1)\n",
            "Requirement already satisfied: pure-eval in /home/anas/miniconda3/envs/datascience_env/lib/python3.9/site-packages (from stack-data->ipython->ultralytics==8.0.20) (0.2.2)\n",
            "Requirement already satisfied: executing in /home/anas/miniconda3/envs/datascience_env/lib/python3.9/site-packages (from stack-data->ipython->ultralytics==8.0.20) (0.8.3)\n",
            "Requirement already satisfied: asttokens in /home/anas/miniconda3/envs/datascience_env/lib/python3.9/site-packages (from stack-data->ipython->ultralytics==8.0.20) (2.0.5)\n",
            "Requirement already satisfied: mpmath>=0.19 in /home/anas/miniconda3/envs/datascience_env/lib/python3.9/site-packages (from sympy->torch>=1.7.0->ultralytics==8.0.20) (1.3.0)\n",
            "Requirement already satisfied: zipp>=0.5 in /home/anas/miniconda3/envs/datascience_env/lib/python3.9/site-packages (from importlib-metadata>=4.4->markdown>=2.6.8->tensorboard>=2.4.1->ultralytics==8.0.20) (3.11.0)\n",
            "Requirement already satisfied: pyasn1<0.5.0,>=0.4.6 in /home/anas/miniconda3/envs/datascience_env/lib/python3.9/site-packages (from pyasn1-modules>=0.2.1->google-auth<3,>=1.6.3->tensorboard>=2.4.1->ultralytics==8.0.20) (0.4.8)\n",
            "Requirement already satisfied: oauthlib>=3.0.0 in /home/anas/miniconda3/envs/datascience_env/lib/python3.9/site-packages (from requests-oauthlib>=0.7.0->google-auth-oauthlib<1.1,>=0.5->tensorboard>=2.4.1->ultralytics==8.0.20) (3.2.2)\n",
            "Installing collected packages: ultralytics\n",
            "  Attempting uninstall: ultralytics\n",
            "    Found existing installation: ultralytics 8.0.74\n",
            "    Uninstalling ultralytics-8.0.74:\n",
            "      Successfully uninstalled ultralytics-8.0.74\n",
            "Successfully installed ultralytics-8.0.20\n"
          ]
        }
      ],
      "source": [
        "!pip install ultralytics==8.0.20\n"
      ]
    },
    {
      "cell_type": "code",
      "execution_count": 13,
      "metadata": {
        "colab": {
          "base_uri": "https://localhost:8080/"
        },
        "id": "gl3SZZao5PAx",
        "outputId": "cdfeeceb-5a8d-410e-ce4a-5775b824d03d"
      },
      "outputs": [
        {
          "ename": "FileNotFoundError",
          "evalue": "[Errno 2] No such file or directory: 'runs/detect/train/weights/best.pt'",
          "output_type": "error",
          "traceback": [
            "\u001b[0;31m---------------------------------------------------------------------------\u001b[0m",
            "\u001b[0;31mFileNotFoundError\u001b[0m                         Traceback (most recent call last)",
            "Cell \u001b[0;32mIn[13], line 1\u001b[0m\n\u001b[0;32m----> 1\u001b[0m project\u001b[39m.\u001b[39;49mversion(dataset\u001b[39m.\u001b[39;49mversion)\u001b[39m.\u001b[39;49mdeploy(model_type\u001b[39m=\u001b[39;49m\u001b[39m\"\u001b[39;49m\u001b[39myolov8\u001b[39;49m\u001b[39m\"\u001b[39;49m, model_path\u001b[39m=\u001b[39;49m\u001b[39mf\u001b[39;49m\u001b[39m\"\u001b[39;49m\u001b[39mruns/detect/train/\u001b[39;49m\u001b[39m\"\u001b[39;49m)\n",
            "File \u001b[0;32m~/miniconda3/envs/datascience_env/lib/python3.9/site-packages/roboflow/core/version.py:477\u001b[0m, in \u001b[0;36mVersion.deploy\u001b[0;34m(self, model_type, model_path)\u001b[0m\n\u001b[1;32m    472\u001b[0m     \u001b[39mexcept\u001b[39;00m \u001b[39mImportError\u001b[39;00m \u001b[39mas\u001b[39;00m e:\n\u001b[1;32m    473\u001b[0m         \u001b[39mraise\u001b[39;00m (\n\u001b[1;32m    474\u001b[0m             \u001b[39m\"\u001b[39m\u001b[39mThe torch python package is required to deploy yolov5 models. Please install it with `pip install torch`\u001b[39m\u001b[39m\"\u001b[39m\n\u001b[1;32m    475\u001b[0m         )\n\u001b[0;32m--> 477\u001b[0m model \u001b[39m=\u001b[39m torch\u001b[39m.\u001b[39;49mload(os\u001b[39m.\u001b[39;49mpath\u001b[39m.\u001b[39;49mjoin(model_path, \u001b[39m\"\u001b[39;49m\u001b[39mweights/best.pt\u001b[39;49m\u001b[39m\"\u001b[39;49m))\n\u001b[1;32m    479\u001b[0m \u001b[39mif\u001b[39;00m \u001b[39misinstance\u001b[39m(model[\u001b[39m\"\u001b[39m\u001b[39mmodel\u001b[39m\u001b[39m\"\u001b[39m]\u001b[39m.\u001b[39mnames, \u001b[39mlist\u001b[39m):\n\u001b[1;32m    480\u001b[0m     class_names \u001b[39m=\u001b[39m model[\u001b[39m\"\u001b[39m\u001b[39mmodel\u001b[39m\u001b[39m\"\u001b[39m]\u001b[39m.\u001b[39mnames\n",
            "File \u001b[0;32m~/miniconda3/envs/datascience_env/lib/python3.9/site-packages/torch/serialization.py:791\u001b[0m, in \u001b[0;36mload\u001b[0;34m(f, map_location, pickle_module, weights_only, **pickle_load_args)\u001b[0m\n\u001b[1;32m    788\u001b[0m \u001b[39mif\u001b[39;00m \u001b[39m'\u001b[39m\u001b[39mencoding\u001b[39m\u001b[39m'\u001b[39m \u001b[39mnot\u001b[39;00m \u001b[39min\u001b[39;00m pickle_load_args\u001b[39m.\u001b[39mkeys():\n\u001b[1;32m    789\u001b[0m     pickle_load_args[\u001b[39m'\u001b[39m\u001b[39mencoding\u001b[39m\u001b[39m'\u001b[39m] \u001b[39m=\u001b[39m \u001b[39m'\u001b[39m\u001b[39mutf-8\u001b[39m\u001b[39m'\u001b[39m\n\u001b[0;32m--> 791\u001b[0m \u001b[39mwith\u001b[39;00m _open_file_like(f, \u001b[39m'\u001b[39;49m\u001b[39mrb\u001b[39;49m\u001b[39m'\u001b[39;49m) \u001b[39mas\u001b[39;00m opened_file:\n\u001b[1;32m    792\u001b[0m     \u001b[39mif\u001b[39;00m _is_zipfile(opened_file):\n\u001b[1;32m    793\u001b[0m         \u001b[39m# The zipfile reader is going to advance the current file position.\u001b[39;00m\n\u001b[1;32m    794\u001b[0m         \u001b[39m# If we want to actually tail call to torch.jit.load, we need to\u001b[39;00m\n\u001b[1;32m    795\u001b[0m         \u001b[39m# reset back to the original position.\u001b[39;00m\n\u001b[1;32m    796\u001b[0m         orig_position \u001b[39m=\u001b[39m opened_file\u001b[39m.\u001b[39mtell()\n",
            "File \u001b[0;32m~/miniconda3/envs/datascience_env/lib/python3.9/site-packages/torch/serialization.py:271\u001b[0m, in \u001b[0;36m_open_file_like\u001b[0;34m(name_or_buffer, mode)\u001b[0m\n\u001b[1;32m    269\u001b[0m \u001b[39mdef\u001b[39;00m \u001b[39m_open_file_like\u001b[39m(name_or_buffer, mode):\n\u001b[1;32m    270\u001b[0m     \u001b[39mif\u001b[39;00m _is_path(name_or_buffer):\n\u001b[0;32m--> 271\u001b[0m         \u001b[39mreturn\u001b[39;00m _open_file(name_or_buffer, mode)\n\u001b[1;32m    272\u001b[0m     \u001b[39melse\u001b[39;00m:\n\u001b[1;32m    273\u001b[0m         \u001b[39mif\u001b[39;00m \u001b[39m'\u001b[39m\u001b[39mw\u001b[39m\u001b[39m'\u001b[39m \u001b[39min\u001b[39;00m mode:\n",
            "File \u001b[0;32m~/miniconda3/envs/datascience_env/lib/python3.9/site-packages/torch/serialization.py:252\u001b[0m, in \u001b[0;36m_open_file.__init__\u001b[0;34m(self, name, mode)\u001b[0m\n\u001b[1;32m    251\u001b[0m \u001b[39mdef\u001b[39;00m \u001b[39m__init__\u001b[39m(\u001b[39mself\u001b[39m, name, mode):\n\u001b[0;32m--> 252\u001b[0m     \u001b[39msuper\u001b[39m()\u001b[39m.\u001b[39m\u001b[39m__init__\u001b[39m(\u001b[39mopen\u001b[39;49m(name, mode))\n",
            "\u001b[0;31mFileNotFoundError\u001b[0m: [Errno 2] No such file or directory: 'runs/detect/train/weights/best.pt'"
          ]
        }
      ],
      "source": [
        "project.version(dataset.version).deploy(model_type=\"yolov8\", model_path=f\"runs/detect/train/\")"
      ]
    },
    {
      "cell_type": "code",
      "execution_count": 6,
      "metadata": {
        "colab": {
          "base_uri": "https://localhost:8080/"
        },
        "id": "Ome7qnQlGERN",
        "outputId": "696e548d-b52a-48a4-9f52-9c5ce1513050"
      },
      "outputs": [
        {
          "name": "stdout",
          "output_type": "stream",
          "text": [
            "WARNING ⚠️ Ultralytics settings reset to defaults. \n",
            "This is normal and may be due to a recent ultralytics package update, but may have overwritten previous settings. \n",
            "You may view and update settings directly in '/home/anas/.config/Ultralytics/settings.yaml'\n",
            "Traceback (most recent call last):\n",
            "  File \"/home/anas/miniconda3/envs/datascience_env/bin/yolo\", line 8, in <module>\n",
            "    sys.exit(entrypoint())\n",
            "  File \"/home/anas/miniconda3/envs/datascience_env/lib/python3.9/site-packages/ultralytics/yolo/cfg/__init__.py\", line 249, in entrypoint\n",
            "    getattr(model, mode)(verbose=True, **overrides)\n",
            "  File \"/home/anas/miniconda3/envs/datascience_env/lib/python3.9/site-packages/torch/utils/_contextlib.py\", line 115, in decorate_context\n",
            "    return func(*args, **kwargs)\n",
            "  File \"/home/anas/miniconda3/envs/datascience_env/lib/python3.9/site-packages/ultralytics/yolo/engine/model.py\", line 164, in val\n",
            "    validator = self.ValidatorClass(args=args)\n",
            "  File \"/home/anas/miniconda3/envs/datascience_env/lib/python3.9/site-packages/ultralytics/yolo/v8/detect/val.py\", line 25, in __init__\n",
            "    self.data_dict = yaml_load(check_file(self.args.data), append_filename=True) if self.args.data else None\n",
            "  File \"/home/anas/miniconda3/envs/datascience_env/lib/python3.9/site-packages/ultralytics/yolo/utils/checks.py\", line 227, in check_file\n",
            "    raise FileNotFoundError(f\"'{file}' does not exist\")\n",
            "FileNotFoundError: '{dataset.location}/data.yaml' does not exist\n"
          ]
        }
      ],
      "source": [
        "!yolo detect val model=yolov8s.pt data={dataset.location}/data.yaml"
      ]
    },
    {
      "cell_type": "code",
      "execution_count": 20,
      "metadata": {
        "colab": {
          "base_uri": "https://localhost:8080/"
        },
        "id": "261X_stUX8G9",
        "outputId": "075ff524-6596-4a09-edd3-28d71669fd03"
      },
      "outputs": [
        {
          "name": "stdout",
          "output_type": "stream",
          "text": [
            "loading Roboflow workspace...\n",
            "loading Roboflow project...\n",
            "{'predictions': [{'x': 2048, 'y': 442, 'width': 4096, 'height': 864, 'confidence': 0.48174145817756653, 'class': 'one', 'image_path': 'pexels-pixabay-259191.jpg', 'prediction_type': 'ObjectDetectionModel'}], 'image': {'width': '4608', 'height': '3456'}}\n"
          ]
        }
      ],
      "source": [
        "from roboflow import Roboflow\n",
        "rf = Roboflow(api_key=\"7bZ5szG3Hf3HeFQpypnv\")\n",
        "project = rf.workspace(\"simplon-smpvy\").project(\"counter-y13yi\")\n",
        "model = project.version(2).model\n",
        "\n",
        "# infer on a local image\n",
        "print(model.predict(\"pexels-pixabay-259191.jpg\", confidence=40, overlap=30).json())\n",
        "\n",
        "# visualize your prediction\n",
        "# model.predict(\"pexels-pixabay-259191.jpg\", confidence=70, overlap=30).save(\"prediction.jpg\")\n",
        "\n",
        "# infer on an image hosted elsewhere\n",
        "# print(model.predict(\"URL_OF_YOUR_IMAGE\", hosted=True, confidence=40, overlap=30).json())"
      ]
    },
    {
      "cell_type": "code",
      "execution_count": 7,
      "metadata": {},
      "outputs": [],
      "source": [
        "    # Get prediction from Roboflow Infer API\n",
        "import requests\n",
        "import numpy as np\n",
        "import cv2\n",
        "\n",
        "resp = requests.post(\"https://detect.roboflow.com/counter-y13yi/2\", data=\"/home/anas/Documents/image_detection_cash_counter/pexels-karol-d-325154.jpg\", headers={\n",
        "    \"Content-Type\": \"application/x-www-form-urlencoded\"\n",
        "}, stream=True).raw\n",
        "\n",
        "# Parse result image\n",
        "image = np.asarray(bytearray(resp.read()), dtype=\"uint8\")\n",
        "image = cv2.imdecode(image, cv2.IMREAD_COLOR)"
      ]
    },
    {
      "cell_type": "code",
      "execution_count": 8,
      "metadata": {},
      "outputs": [
        {
          "name": "stdout",
          "output_type": "stream",
          "text": [
            "post took 1.5777177810668945\n",
            "{'message': 'Unauthorized'}\n"
          ]
        },
        {
          "ename": "KeyError",
          "evalue": "'predictions'",
          "output_type": "error",
          "traceback": [
            "\u001b[0;31m---------------------------------------------------------------------------\u001b[0m",
            "\u001b[0;31mKeyError\u001b[0m                                  Traceback (most recent call last)",
            "Cell \u001b[0;32mIn[8], line 28\u001b[0m\n\u001b[1;32m     26\u001b[0m \u001b[39mprint\u001b[39m(r\u001b[39m.\u001b[39mjson())\n\u001b[1;32m     27\u001b[0m preds \u001b[39m=\u001b[39m r\u001b[39m.\u001b[39mjson()\n\u001b[0;32m---> 28\u001b[0m detections \u001b[39m=\u001b[39m preds[\u001b[39m'\u001b[39;49m\u001b[39mpredictions\u001b[39;49m\u001b[39m'\u001b[39;49m]\n",
            "\u001b[0;31mKeyError\u001b[0m: 'predictions'"
          ]
        }
      ],
      "source": [
        "import glob\n",
        "import requests\n",
        "import base64\n",
        "from base64 import decodebytes\n",
        "import io\n",
        "from PIL import Image\n",
        "import time\n",
        "import cv2\n",
        "from io import BytesIO\n",
        "\n",
        "\n",
        "f = '/home/anas/Documents/image_detection_cash_counter/pexels-karol-d-325154.jpg'\n",
        "image = Image.open(f)\n",
        "buffered = io.BytesIO()\n",
        "image = image.convert(\"RGB\")\n",
        "image.save(buffered, quality=90, format=\"JPEG\")\n",
        "img_str = base64.b64encode(buffered.getvalue())\n",
        "img_str = img_str.decode(\"ascii\")\n",
        "\n",
        "headers = {'accept': 'application/json'}\n",
        "start = time.time()\n",
        "r = requests.post(\"https://detect.roboflow.com/counter-y13yi/2\", data=img_str, headers=headers)\n",
        "print('post took ' + str(time.time() - start))\n",
        "\n",
        "# print(r)\n",
        "print(r.json())\n",
        "preds = r.json()\n",
        "detections = preds['predictions']"
      ]
    },
    {
      "cell_type": "code",
      "execution_count": 14,
      "metadata": {},
      "outputs": [
        {
          "ename": "ImportError",
          "evalue": "cannot import name 'Images' from 'PIL' (/home/anas/miniconda3/envs/datascience_env/lib/python3.9/site-packages/PIL/__init__.py)",
          "output_type": "error",
          "traceback": [
            "\u001b[0;31m---------------------------------------------------------------------------\u001b[0m",
            "\u001b[0;31mImportError\u001b[0m                               Traceback (most recent call last)",
            "Cell \u001b[0;32mIn[14], line 7\u001b[0m\n\u001b[1;32m      5\u001b[0m \u001b[39mfrom\u001b[39;00m \u001b[39mdatetime\u001b[39;00m \u001b[39mimport\u001b[39;00m date\n\u001b[1;32m      6\u001b[0m \u001b[39mfrom\u001b[39;00m \u001b[39mPIL\u001b[39;00m \u001b[39mimport\u001b[39;00m Image, ImageDraw, ImageFont\n\u001b[0;32m----> 7\u001b[0m \u001b[39mfrom\u001b[39;00m \u001b[39mPIL\u001b[39;00m \u001b[39mimport\u001b[39;00m Images\n\u001b[1;32m      8\u001b[0m \u001b[39m# from video import Video\u001b[39;00m\n\u001b[1;32m      9\u001b[0m \u001b[39m# from webcam import Webcam\u001b[39;00m\n\u001b[1;32m     10\u001b[0m \n\u001b[1;32m     11\u001b[0m \u001b[39m######################## INFERENCE WITH PYTHON PACKAGE ########################\u001b[39;00m\n\u001b[1;32m     12\u001b[0m \u001b[39m# load config file\u001b[39;00m\n\u001b[1;32m     13\u001b[0m \u001b[39mwith\u001b[39;00m \u001b[39mopen\u001b[39m(\u001b[39m'\u001b[39m\u001b[39mroboflow_config.json\u001b[39m\u001b[39m'\u001b[39m) \u001b[39mas\u001b[39;00m f:\n",
            "\u001b[0;31mImportError\u001b[0m: cannot import name 'Images' from 'PIL' (/home/anas/miniconda3/envs/datascience_env/lib/python3.9/site-packages/PIL/__init__.py)"
          ]
        }
      ],
      "source": [
        "\n",
        "from roboflow import Roboflow\n",
        "import os, sys, re, glob\n",
        "import cv2\n",
        "import json\n",
        "from datetime import date\n",
        "from PIL import Image, ImageDraw, ImageFont\n",
        "from PIL import Images\n",
        "# from video import Video\n",
        "# from webcam import Webcam\n",
        "\n",
        "######################## INFERENCE WITH PYTHON PACKAGE ########################\n",
        "# load config file\n",
        "with open('roboflow_config.json') as f:\n",
        "    config = json.load(f)\n",
        "\n",
        "    ROBOFLOW_API_KEY = config[\"7bZ5szG3Hf3HeFQpypnv\"]\n",
        "    ROBOFLOW_WORKSPACE_ID = config[\"simplon-smpvy\"]\n",
        "    ROBOFLOW_MODEL_ID = config[\"counter-y13yi\"]\n",
        "    ROBOFLOW_VERSION_NUMBER = config[\"2\"]\n",
        "\n",
        "    f.close()\n",
        "\n",
        "# obtaining your API key: https://docs.roboflow.com/rest-api#obtaining-your-api-key\n",
        "# create Roboflow object: https://docs.roboflow.com/python\n",
        "rf = Roboflow(api_key=ROBOFLOW_API_KEY)\n",
        "workspace = rf.workspace(ROBOFLOW_WORKSPACE_ID)\n",
        "project = rf.workspace(ROBOFLOW_WORKSPACE_ID).project(ROBOFLOW_MODEL_ID)\n",
        "version = project.version(ROBOFLOW_VERSION_NUMBER)\n",
        "model = version.model\n",
        "\n",
        "file_path = './pexels-karol-d-325154.jpg' # replace with path to a folder (directory) or image file\n",
        "\n",
        "image_infer = Images.LocalImage(model, file_path)\n",
        "\n",
        "# print JSON response for predictions\n",
        "image_infer.makePrediction()\n",
        "\n",
        "## JSON response for predictions and draw bounding boxes on result image\n",
        "## default keyword argument values for drawBoxes():\n",
        "## printJson = True, font = cv2.FONT_HERSHEY_SIMPLEX, save_img = True, view_img = False\n",
        "image_infer.drawBoxes()\n",
        "\n",
        "## JSON response for predictions and draw FILLED bounding boxes on result image\n",
        "## default keyword argument values for drawBoxes():\n",
        "## printJson = True, font = cv2.FONT_HERSHEY_SIMPLEX, save_img = True, view_img = False\n",
        "image_infer.drawFilledBoxes()\n",
        "\n",
        "## JSON response for predictions and draw bounding boxes on result image\n",
        "## default keyword argument values for drawBoxes():\n",
        "## printJson = True, font = cv2.FONT_HERSHEY_SIMPLEX, save_img = True, view_img = False\n",
        "image_infer.blurBoxes()"
      ]
    },
    {
      "cell_type": "code",
      "execution_count": null,
      "metadata": {},
      "outputs": [],
      "source": []
    }
  ],
  "metadata": {
    "accelerator": "GPU",
    "colab": {
      "include_colab_link": true,
      "provenance": []
    },
    "gpuClass": "standard",
    "kernelspec": {
      "display_name": "Python 3",
      "name": "python3"
    },
    "language_info": {
      "codemirror_mode": {
        "name": "ipython",
        "version": 3
      },
      "file_extension": ".py",
      "mimetype": "text/x-python",
      "name": "python",
      "nbconvert_exporter": "python",
      "pygments_lexer": "ipython3",
      "version": "3.9.12"
    }
  },
  "nbformat": 4,
  "nbformat_minor": 0
}
